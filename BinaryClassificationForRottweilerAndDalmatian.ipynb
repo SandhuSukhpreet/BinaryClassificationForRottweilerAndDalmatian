{
 "cells": [
  {
   "cell_type": "markdown",
   "id": "b9f20902",
   "metadata": {},
   "source": [
    "### Loading Dataset"
   ]
  },
  {
   "cell_type": "code",
   "execution_count": 1,
   "id": "ce280929",
   "metadata": {},
   "outputs": [
    {
     "name": "stdout",
     "output_type": "stream",
     "text": [
      "{'rottweiler': 0, 'dalmatian': 1}\n",
      "Different classes are -  rottweiler, dalmatian\n",
      "Total no. of classes are -  2\n"
     ]
    }
   ],
   "source": [
    "from PIL import Image\n",
    "import os\n",
    "from glob import glob\n",
    "import numpy as np\n",
    "\n",
    "\n",
    "\n",
    "data_path = 'dog-breeds'\n",
    "\n",
    "img_shape = 224\n",
    "classes = os.listdir(data_path)\n",
    "classes = classes[:2]\n",
    "class_dict = {v: k for k, v in enumerate(classes)}\n",
    "print(class_dict)\n",
    "image_path = glob(data_path + \"*\", recursive = True)\n",
    "print(\"Different classes are - \",\", \".join(classes))\n",
    "print(\"Total no. of classes are - \", len(classes))"
   ]
  },
  {
   "cell_type": "markdown",
   "id": "1dbefd8c",
   "metadata": {},
   "source": [
    "### Data Preprocessing for real sample of test data"
   ]
  },
  {
   "cell_type": "code",
   "execution_count": 76,
   "id": "1ea64a15",
   "metadata": {},
   "outputs": [
    {
     "name": "stdout",
     "output_type": "stream",
     "text": [
      "[[[0.7372549  0.85098039 0.91269841]\n",
      "  [0.74117647 0.85490196 0.91666667]\n",
      "  [0.74509804 0.85882353 0.92063492]\n",
      "  ...\n",
      "  [0.6745098  0.78039216 0.82539683]\n",
      "  [0.6745098  0.77647059 0.81746032]\n",
      "  [0.67843137 0.77254902 0.81746032]]\n",
      "\n",
      " [[0.7372549  0.85098039 0.90873016]\n",
      "  [0.74117647 0.85490196 0.90873016]\n",
      "  [0.74509804 0.85882353 0.91666667]\n",
      "  ...\n",
      "  [0.6745098  0.78039216 0.82142857]\n",
      "  [0.67843137 0.77254902 0.81746032]\n",
      "  [0.6745098  0.76862745 0.81349206]]\n",
      "\n",
      " [[0.74509804 0.85490196 0.90873016]\n",
      "  [0.74509804 0.85882353 0.90873016]\n",
      "  [0.75294118 0.8627451  0.91666667]\n",
      "  ...\n",
      "  [0.6745098  0.76862745 0.81746032]\n",
      "  [0.6745098  0.76470588 0.81349206]\n",
      "  [0.6745098  0.76470588 0.81349206]]\n",
      "\n",
      " ...\n",
      "\n",
      " [[0.89411765 0.92156863 0.94444444]\n",
      "  [0.89803922 0.9254902  0.9484127 ]\n",
      "  [0.89803922 0.9254902  0.9484127 ]\n",
      "  ...\n",
      "  [0.90588235 0.9372549  0.9484127 ]\n",
      "  [0.90588235 0.93333333 0.95238095]\n",
      "  [0.90588235 0.93333333 0.95634921]]\n",
      "\n",
      " [[0.89411765 0.92156863 0.94444444]\n",
      "  [0.89803922 0.9254902  0.9484127 ]\n",
      "  [0.89803922 0.9254902  0.9484127 ]\n",
      "  ...\n",
      "  [0.90588235 0.9372549  0.9484127 ]\n",
      "  [0.90588235 0.93333333 0.95238095]\n",
      "  [0.90588235 0.93333333 0.95634921]]\n",
      "\n",
      " [[0.89411765 0.92156863 0.94444444]\n",
      "  [0.89803922 0.9254902  0.9484127 ]\n",
      "  [0.89803922 0.9254902  0.9484127 ]\n",
      "  ...\n",
      "  [0.90588235 0.9372549  0.9484127 ]\n",
      "  [0.90588235 0.93333333 0.95238095]\n",
      "  [0.90588235 0.93333333 0.95634921]]]\n"
     ]
    }
   ],
   "source": [
    "data_path = 'Rott.jpg'\n",
    "imm = Image.open(data_path)\n",
    "imm = imm.resize((img_shape, img_shape))\n",
    "imm = np.array(imm)\n",
    "np.shape(imm)\n",
    "\n",
    "from sklearn.preprocessing import MinMaxScaler\n",
    "scaler = MinMaxScaler()\n",
    "ascol = imm.reshape(-1,3)\n",
    "xx = scaler.fit_transform(ascol)\n",
    "\n",
    "imm = xx.reshape(imm.shape)\n",
    "\n",
    "print(imm)\n"
   ]
  },
  {
   "cell_type": "code",
   "execution_count": 10,
   "id": "17724fd3",
   "metadata": {},
   "outputs": [
    {
     "data": {
      "text/plain": [
       "'/Users/sukhpreetksandhu'"
      ]
     },
     "execution_count": 10,
     "metadata": {},
     "output_type": "execute_result"
    }
   ],
   "source": [
    "pwd"
   ]
  },
  {
   "cell_type": "markdown",
   "id": "0cbd3f8a",
   "metadata": {},
   "source": [
    "### Loading the data and preprocessing"
   ]
  },
  {
   "cell_type": "code",
   "execution_count": 69,
   "id": "ce34ef6c",
   "metadata": {},
   "outputs": [
    {
     "name": "stdout",
     "output_type": "stream",
     "text": [
      "[0 0 0 0 0 0 0 0 0 0 0 0 0 0 0 0 0 0 0 0 0 0 0 0 0 0 0 0 0 0 0 0 0 0 0 0 0\n",
      " 0 0 0 0 0 0 0 0 0 0 0 0 0 0 0 0 0 0 0 0 0 0 0 0 0 0 0 0 0 0 0 0 0 0 0 0 0\n",
      " 0 0 0 0 1 1 1 1 1 1 1 1 1 1 1 1 1 1 1 1 1 1 1 1 1 1 1 1 1 1 1 1 1 1 1 1 1\n",
      " 1 1 1 1 1 1 1 1 1 1 1 1 1 1 1 1 1 1]\n"
     ]
    }
   ],
   "source": [
    "data = []\n",
    "label = []\n",
    "\n",
    "for c in classes:\n",
    "    path = os.path.join(data_path, c)\n",
    "    images = os.listdir(path)\n",
    "    \n",
    "\n",
    "    for a in images:\n",
    "        image = Image.open(path + '/' + a)\n",
    "        image = image.resize((img_shape,img_shape))\n",
    "        image = np.array(image)\n",
    "\n",
    "        if np.shape(image) == (img_shape, img_shape, 3):\n",
    "            data.append(image)\n",
    "            label.append(class_dict[c])\n",
    "\n",
    "data = np.array(data)\n",
    "label = np.array(label)\n",
    "print(label)\n"
   ]
  },
  {
   "cell_type": "code",
   "execution_count": 70,
   "id": "7c28a73c",
   "metadata": {},
   "outputs": [],
   "source": [
    "from sklearn.preprocessing import MinMaxScaler\n",
    "from sklearn.model_selection import train_test_split\n",
    "\n",
    "scaler = MinMaxScaler()\n",
    "ascolumns = data.reshape(-1,3)\n",
    "\n",
    "t = scaler.fit_transform(ascolumns)\n",
    "data = t.reshape(data.shape)\n",
    "\n",
    "\n",
    "X_trainval, X_test, y_trainval, y_test = train_test_split(data, label, train_size = 0.8,test_size = 0.2, random_state=42)\n",
    "x_train, x_val, y_train, y_val = train_test_split(X_trainval, y_trainval, train_size = 0.9,test_size = 0.1,random_state =42)\n",
    "\n"
   ]
  },
  {
   "cell_type": "markdown",
   "id": "18fdd769",
   "metadata": {},
   "source": [
    "### One hot encoding"
   ]
  },
  {
   "cell_type": "code",
   "execution_count": 71,
   "id": "33a0aff1",
   "metadata": {},
   "outputs": [],
   "source": [
    "from keras.utils import to_categorical\n",
    "\n",
    "y_train = to_categorical(y_train,2)\n",
    "y_val = to_categorical(y_val,2)\n",
    "\n",
    "\n"
   ]
  },
  {
   "cell_type": "markdown",
   "id": "8b343935",
   "metadata": {},
   "source": [
    "### Importing the model and Neural Network Layers"
   ]
  },
  {
   "cell_type": "code",
   "execution_count": 72,
   "id": "0fc3c44c",
   "metadata": {},
   "outputs": [],
   "source": [
    "from keras.models import Sequential\n",
    "from keras.layers import Conv2D, MaxPool2D, Dense, Flatten, Dropout, BatchNormalization\n",
    "#Conv2D(8, (3,3), activation = \"relu\")\n",
    "#MaxPool2D(pool_size = (2,2))\n",
    "#Dense(2, activation = \"relu\")\n"
   ]
  },
  {
   "cell_type": "markdown",
   "id": "07ac0ff8",
   "metadata": {},
   "source": [
    "### Training the model"
   ]
  },
  {
   "cell_type": "code",
   "execution_count": 26,
   "id": "5ffceccd",
   "metadata": {},
   "outputs": [
    {
     "name": "stdout",
     "output_type": "stream",
     "text": [
      "Model: \"sequential_1\"\n",
      "_________________________________________________________________\n",
      " Layer (type)                Output Shape              Param #   \n",
      "=================================================================\n",
      " conv2d_1 (Conv2D)           (None, 222, 222, 8)       224       \n",
      "                                                                 \n",
      " max_pooling2d_1 (MaxPooling  (None, 111, 111, 8)      0         \n",
      " 2D)                                                             \n",
      "                                                                 \n",
      " flatten_1 (Flatten)         (None, 98568)             0         \n",
      "                                                                 \n",
      " dense_2 (Dense)             (None, 64)                6308416   \n",
      "                                                                 \n",
      " dropout_1 (Dropout)         (None, 64)                0         \n",
      "                                                                 \n",
      " dense_3 (Dense)             (None, 2)                 130       \n",
      "                                                                 \n",
      "=================================================================\n",
      "Total params: 6,308,770\n",
      "Trainable params: 6,308,770\n",
      "Non-trainable params: 0\n",
      "_________________________________________________________________\n",
      "Epoch 1/20\n",
      "2/2 [==============================] - 0s 125ms/step - loss: 0.7912 - accuracy: 0.4167 - val_loss: 0.0000e+00 - val_accuracy: 1.0000\n",
      "Epoch 2/20\n",
      "2/2 [==============================] - 0s 52ms/step - loss: 0.0000e+00 - accuracy: 1.0000 - val_loss: 0.0000e+00 - val_accuracy: 1.0000\n",
      "Epoch 3/20\n",
      "2/2 [==============================] - 0s 52ms/step - loss: 0.0000e+00 - accuracy: 1.0000 - val_loss: 0.0000e+00 - val_accuracy: 1.0000\n",
      "Epoch 4/20\n",
      "2/2 [==============================] - 0s 52ms/step - loss: 0.0000e+00 - accuracy: 1.0000 - val_loss: 0.0000e+00 - val_accuracy: 1.0000\n",
      "Epoch 5/20\n",
      "2/2 [==============================] - 0s 53ms/step - loss: 0.0000e+00 - accuracy: 1.0000 - val_loss: 0.0000e+00 - val_accuracy: 1.0000\n",
      "Epoch 6/20\n",
      "2/2 [==============================] - 0s 50ms/step - loss: 0.0000e+00 - accuracy: 1.0000 - val_loss: 0.0000e+00 - val_accuracy: 1.0000\n",
      "Epoch 7/20\n",
      "2/2 [==============================] - 0s 49ms/step - loss: 0.0000e+00 - accuracy: 1.0000 - val_loss: 0.0000e+00 - val_accuracy: 1.0000\n",
      "Epoch 8/20\n",
      "2/2 [==============================] - 0s 51ms/step - loss: 0.0000e+00 - accuracy: 1.0000 - val_loss: 0.0000e+00 - val_accuracy: 1.0000\n",
      "Epoch 9/20\n",
      "2/2 [==============================] - 0s 54ms/step - loss: 0.0000e+00 - accuracy: 1.0000 - val_loss: 0.0000e+00 - val_accuracy: 1.0000\n",
      "Epoch 10/20\n",
      "2/2 [==============================] - 0s 55ms/step - loss: 0.0000e+00 - accuracy: 1.0000 - val_loss: 0.0000e+00 - val_accuracy: 1.0000\n",
      "Epoch 11/20\n",
      "2/2 [==============================] - 0s 47ms/step - loss: 0.0000e+00 - accuracy: 1.0000 - val_loss: 0.0000e+00 - val_accuracy: 1.0000\n",
      "Epoch 12/20\n",
      "2/2 [==============================] - 0s 56ms/step - loss: 0.0000e+00 - accuracy: 1.0000 - val_loss: 0.0000e+00 - val_accuracy: 1.0000\n",
      "Epoch 13/20\n",
      "2/2 [==============================] - 0s 57ms/step - loss: 0.0000e+00 - accuracy: 1.0000 - val_loss: 0.0000e+00 - val_accuracy: 1.0000\n",
      "Epoch 14/20\n",
      "2/2 [==============================] - 0s 56ms/step - loss: 0.0000e+00 - accuracy: 1.0000 - val_loss: 0.0000e+00 - val_accuracy: 1.0000\n",
      "Epoch 15/20\n",
      "2/2 [==============================] - 0s 55ms/step - loss: 0.0000e+00 - accuracy: 1.0000 - val_loss: 0.0000e+00 - val_accuracy: 1.0000\n",
      "Epoch 16/20\n",
      "2/2 [==============================] - 0s 62ms/step - loss: 0.0000e+00 - accuracy: 1.0000 - val_loss: 0.0000e+00 - val_accuracy: 1.0000\n",
      "Epoch 17/20\n",
      "2/2 [==============================] - 0s 58ms/step - loss: 0.0000e+00 - accuracy: 1.0000 - val_loss: 0.0000e+00 - val_accuracy: 1.0000\n",
      "Epoch 18/20\n",
      "2/2 [==============================] - 0s 57ms/step - loss: 0.0000e+00 - accuracy: 1.0000 - val_loss: 0.0000e+00 - val_accuracy: 1.0000\n",
      "Epoch 19/20\n",
      "2/2 [==============================] - 0s 61ms/step - loss: 0.0000e+00 - accuracy: 1.0000 - val_loss: 0.0000e+00 - val_accuracy: 1.0000\n",
      "Epoch 20/20\n",
      "2/2 [==============================] - 0s 55ms/step - loss: 0.0000e+00 - accuracy: 1.0000 - val_loss: 0.0000e+00 - val_accuracy: 1.0000\n"
     ]
    }
   ],
   "source": [
    "model = Sequential()\n",
    "model.add(Conv2D(8, (3,3), input_shape = x_train.shape[1:], activation = 'relu'))\n",
    "model.add(MaxPool2D(pool_size = (2,2)))\n",
    "\n",
    "model.add(Flatten())\n",
    "model.add(Dense(64, activation = 'relu'))\n",
    "\n",
    "model.add(Dropout(rate = 0.4))\n",
    "model.add(Dense(2, activation = 'softmax'))\n",
    "\n",
    "model.summary()\n",
    "\n",
    "model.compile(loss = 'categorical_crossentropy', optimizer = 'adam', metrics = ['accuracy'])\n",
    "\n",
    "epochs = 20\n",
    "history = model.fit(x_train, y_train, batch_size = 32, epochs = epochs, validation_data = (x_val, y_val))\n",
    "\n"
   ]
  },
  {
   "cell_type": "markdown",
   "id": "136f249a",
   "metadata": {},
   "source": [
    "### Accuracy Curve"
   ]
  },
  {
   "cell_type": "code",
   "execution_count": 73,
   "id": "27e1a028",
   "metadata": {},
   "outputs": [
    {
     "data": {
      "image/png": "[encoded data removed]",
      "text/plain": [
       "<Figure size 640x480 with 1 Axes>"
      ]
     },
     "metadata": {},
     "output_type": "display_data"
    }
   ],
   "source": [
    "import matplotlib.pyplot as plt\n",
    "plt.plot(history.history['accuracy'], label = 'training-accuracy')\n",
    "plt.title('Accuracy')\n",
    "plt.xlabel('epochs')\n",
    "plt.ylabel('accuracy')\n",
    "plt.legend()\n",
    "plt.show()"
   ]
  },
  {
   "cell_type": "markdown",
   "id": "f22a0d79",
   "metadata": {},
   "source": [
    "### Loss curve"
   ]
  },
  {
   "cell_type": "code",
   "execution_count": 74,
   "id": "b23f28d5",
   "metadata": {},
   "outputs": [
    {
     "data": {
      "image/png": "[encoded data removed]",
      "text/plain": [
       "<Figure size 640x480 with 1 Axes>"
      ]
     },
     "metadata": {},
     "output_type": "display_data"
    }
   ],
   "source": [
    "plt.plot(history.history['loss'], label = 'training-loss')\n",
    "plt.xlabel('epochs')\n",
    "plt.ylabel('loss')\n",
    "plt.title('Loss')\n",
    "plt.legend()\n",
    "plt.show()"
   ]
  },
  {
   "cell_type": "markdown",
   "id": "aec974da",
   "metadata": {},
   "source": [
    "### Testing the model"
   ]
  },
  {
   "cell_type": "code",
   "execution_count": 75,
   "id": "8f427914",
   "metadata": {},
   "outputs": [
    {
     "name": "stdout",
     "output_type": "stream",
     "text": [
      "1/1 [==============================] - 0s 91ms/step\n"
     ]
    }
   ],
   "source": [
    "from sklearn.metrics import confusion_matrix\n",
    "from sklearn.metrics import precision_score\n",
    "from sklearn.metrics import accuracy_score\n",
    "from sklearn.metrics import recall_score\n",
    "from sklearn.metrics import f1_score\n",
    "\n",
    "\n",
    "pred = model.predict(X_test)\n",
    "#print(pred)\n",
    "#print(np.argmax(pred[1]))\n",
    "\n",
    "#pred = np.argmax(model.predict(X_test), axis = 1)\n",
    "#print(pred)\n",
    "\n",
    "\n",
    "#cm = confusion_matrix(y_test,pred)\n",
    "#print('ConfusionMatrix')\n",
    "#print(cm)\n",
    "\n",
    "#accuracy = accuracy_score(y_test,pred)\n",
    "#print(accuracy)\n",
    "\n",
    "#f1 = f1_score(y_test,pred)\n",
    "#print(f1)\n",
    "\n"
   ]
  },
  {
   "cell_type": "code",
   "execution_count": 37,
   "id": "6c804b49",
   "metadata": {},
   "outputs": [
    {
     "name": "stdout",
     "output_type": "stream",
     "text": [
      "(224, 224, 3)\n"
     ]
    }
   ],
   "source": [
    "print(X_test[1].shape)"
   ]
  },
  {
   "cell_type": "markdown",
   "id": "e2b1a349",
   "metadata": {},
   "source": [
    "### Testing on real sample of Data"
   ]
  },
  {
   "cell_type": "code",
   "execution_count": 77,
   "id": "3b581e06",
   "metadata": {},
   "outputs": [
    {
     "name": "stdout",
     "output_type": "stream",
     "text": [
      "(1, 224, 224, 3)\n",
      "1/1 [==============================] - 0s 28ms/step\n",
      "[1]\n"
     ]
    }
   ],
   "source": [
    "from sklearn.metrics import confusion_matrix\n",
    "from sklearn.metrics import precision_score\n",
    "from sklearn.metrics import accuracy_score\n",
    "from sklearn.metrics import recall_score\n",
    "from sklearn.metrics import f1_score\n",
    "\n",
    "imm = imm.reshape(1,224,224,3)\n",
    "print(imm.shape)\n",
    "predd = np.argmax(model.predict(imm), axis = 1)\n",
    "print(predd)"
   ]
  },
  {
   "cell_type": "code",
   "execution_count": null,
   "id": "fbf04e72",
   "metadata": {},
   "outputs": [],
   "source": []
  }
 ],
 "metadata": {
  "kernelspec": {
   "display_name": "Python 3 (ipykernel)",
   "language": "python",
   "name": "python3"
  },
  "language_info": {
   "codemirror_mode": {
    "name": "ipython",
    "version": 3
   },
   "file_extension": ".py",
   "mimetype": "text/x-python",
   "name": "python",
   "nbconvert_exporter": "python",
   "pygments_lexer": "ipython3",
   "version": "3.10.9"
  }
 },
 "nbformat": 4,
 "nbformat_minor": 5
}
